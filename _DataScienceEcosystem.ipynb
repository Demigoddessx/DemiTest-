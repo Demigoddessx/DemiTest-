{
 "cells": [
  {
   "cell_type": "markdown",
   "id": "e1aece24",
   "metadata": {},
   "source": [
    "#  Data Science Tools and Ecosystem"
   ]
  },
  {
   "cell_type": "markdown",
   "id": "0dafd91a",
   "metadata": {},
   "source": [
    "In this notebook, Data Science Tools and Ecosystem are summarized."
   ]
  },
  {
   "cell_type": "markdown",
   "id": "5d75df3d",
   "metadata": {},
   "source": [
    "**Objective:**"
   ]
  },
  {
   "cell_type": "markdown",
   "id": "5fdba9c6",
   "metadata": {},
   "source": [
    "* Python\n",
    "* R\n",
    "* SQL\n",
    "* Java\n",
    "* Scala\n",
    "* Julia"
   ]
  },
  {
   "cell_type": "markdown",
   "id": "7be8d92f",
   "metadata": {},
   "source": [
    "### Some of the popular languages that Data Scientists use are:"
   ]
  },
  {
   "cell_type": "markdown",
   "id": "b5b94ff9",
   "metadata": {},
   "source": [
    "1. English \n",
    "2. French\n",
    "3. Spanish\n",
    "4. German \n",
    "5. Japanese \n",
    "6. Chinese"
   ]
  },
  {
   "attachments": {},
   "cell_type": "markdown",
   "id": "1a307ec9",
   "metadata": {},
   "source": [
    "### Some of the commonly used libraries used by Data Scientists include:"
   ]
  },
  {
   "cell_type": "markdown",
   "id": "062ab315",
   "metadata": {},
   "source": [
    "1. TensorFlow\n",
    "2. NumPy\n",
    "3. SciPy\n",
    "4. SciKit-Learn\n",
    "5. Keras\n",
    "6. Matplotlib"
   ]
  },
  {
   "cell_type": "markdown",
   "id": "53f4608b",
   "metadata": {},
   "source": [
    "| Data Science Tools |\n",
    "| -------------|\n",
    "|RStudio |\n",
    "|Apache Hadoop |\n",
    "|TensorFlow |"
   ]
  },
  {
   "attachments": {},
   "cell_type": "markdown",
   "id": "3bb8da82",
   "metadata": {},
   "source": [
    "### Below are a few examples of evaluating arithmetic expressions in Python"
   ]
  },
  {
   "cell_type": "markdown",
   "id": "d016f0c3",
   "metadata": {},
   "source": [
    "* This a simple arithmetic expression to mutiply then add integers\n"
   ]
  },
  {
   "cell_type": "code",
   "execution_count": 3,
   "id": "22ab589a",
   "metadata": {},
   "outputs": [
    {
     "data": {
      "text/plain": [
       "17"
      ]
     },
     "execution_count": 3,
     "metadata": {},
     "output_type": "execute_result"
    }
   ],
   "source": [
    "(3*4)+5"
   ]
  },
  {
   "cell_type": "markdown",
   "id": "04807716",
   "metadata": {},
   "source": [
    "*  This will convert 200 minutes to hours by diving by 60"
   ]
  },
  {
   "cell_type": "code",
   "execution_count": 6,
   "id": "9acbe355",
   "metadata": {},
   "outputs": [
    {
     "data": {
      "text/plain": [
       "3.3333333333333335"
      ]
     },
     "execution_count": 6,
     "metadata": {},
     "output_type": "execute_result"
    }
   ],
   "source": [
    "200/60 "
   ]
  },
  {
   "cell_type": "markdown",
   "id": "f35b7672",
   "metadata": {},
   "source": [
    "## Author\n",
    "Latonya "
   ]
  },
  {
   "cell_type": "code",
   "execution_count": null,
   "id": "e8a9bf4b",
   "metadata": {},
   "outputs": [],
   "source": []
  }
 ],
 "metadata": {
  "kernelspec": {
   "display_name": "Python 3 (ipykernel)",
   "language": "python",
   "name": "python3"
  },
  "language_info": {
   "codemirror_mode": {
    "name": "ipython",
    "version": 3
   },
   "file_extension": ".py",
   "mimetype": "text/x-python",
   "name": "python",
   "nbconvert_exporter": "python",
   "pygments_lexer": "ipython3",
   "version": "3.10.9"
  }
 },
 "nbformat": 4,
 "nbformat_minor": 5
}
